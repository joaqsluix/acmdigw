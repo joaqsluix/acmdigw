{
  "nbformat": 4,
  "nbformat_minor": 0,
  "metadata": {
    "colab": {
      "provenance": [],
      "gpuType": "T4",
      "mount_file_id": "1SRQeLPekZqZNHikfN1Rkz2Zued0ziJye",
      "authorship_tag": "ABX9TyM0DssAG6u7/DwRcaCJPrb6",
      "include_colab_link": true
    },
    "kernelspec": {
      "name": "python3",
      "display_name": "Python 3"
    },
    "language_info": {
      "name": "python"
    },
    "accelerator": "GPU",
    "widgets": {
      "application/vnd.jupyter.widget-state+json": {
        "2647482c37614c47ad01ff7e0811752d": {
          "model_module": "@jupyter-widgets/controls",
          "model_name": "HBoxModel",
          "model_module_version": "1.5.0",
          "state": {
            "_dom_classes": [],
            "_model_module": "@jupyter-widgets/controls",
            "_model_module_version": "1.5.0",
            "_model_name": "HBoxModel",
            "_view_count": null,
            "_view_module": "@jupyter-widgets/controls",
            "_view_module_version": "1.5.0",
            "_view_name": "HBoxView",
            "box_style": "",
            "children": [
              "IPY_MODEL_b5b360a226ee48098134d57c0c9c88c9",
              "IPY_MODEL_c640d0d1869943cb802ed8ea15de1b78",
              "IPY_MODEL_f0e32f80f9e24068a4eb116b069cd6d5"
            ],
            "layout": "IPY_MODEL_f95f1a1d9b5e47d98c15c3e49025f3a2"
          }
        },
        "b5b360a226ee48098134d57c0c9c88c9": {
          "model_module": "@jupyter-widgets/controls",
          "model_name": "HTMLModel",
          "model_module_version": "1.5.0",
          "state": {
            "_dom_classes": [],
            "_model_module": "@jupyter-widgets/controls",
            "_model_module_version": "1.5.0",
            "_model_name": "HTMLModel",
            "_view_count": null,
            "_view_module": "@jupyter-widgets/controls",
            "_view_module_version": "1.5.0",
            "_view_name": "HTMLView",
            "description": "",
            "description_tooltip": null,
            "layout": "IPY_MODEL_895ff3fb537e4c15aacc5805582b2acd",
            "placeholder": "​",
            "style": "IPY_MODEL_94010d0facf74c029973e5d8abf4a560",
            "value": "100%"
          }
        },
        "c640d0d1869943cb802ed8ea15de1b78": {
          "model_module": "@jupyter-widgets/controls",
          "model_name": "FloatProgressModel",
          "model_module_version": "1.5.0",
          "state": {
            "_dom_classes": [],
            "_model_module": "@jupyter-widgets/controls",
            "_model_module_version": "1.5.0",
            "_model_name": "FloatProgressModel",
            "_view_count": null,
            "_view_module": "@jupyter-widgets/controls",
            "_view_module_version": "1.5.0",
            "_view_name": "ProgressView",
            "bar_style": "success",
            "description": "",
            "description_tooltip": null,
            "layout": "IPY_MODEL_f6430575fd6c464f8b087339cee69d0e",
            "max": 111,
            "min": 0,
            "orientation": "horizontal",
            "style": "IPY_MODEL_ef8ba64788bc491fa0f89d89c28ac609",
            "value": 111
          }
        },
        "f0e32f80f9e24068a4eb116b069cd6d5": {
          "model_module": "@jupyter-widgets/controls",
          "model_name": "HTMLModel",
          "model_module_version": "1.5.0",
          "state": {
            "_dom_classes": [],
            "_model_module": "@jupyter-widgets/controls",
            "_model_module_version": "1.5.0",
            "_model_name": "HTMLModel",
            "_view_count": null,
            "_view_module": "@jupyter-widgets/controls",
            "_view_module_version": "1.5.0",
            "_view_name": "HTMLView",
            "description": "",
            "description_tooltip": null,
            "layout": "IPY_MODEL_ffc82ab209ae43ea862d55dc40421b43",
            "placeholder": "​",
            "style": "IPY_MODEL_15a9e257f2f1408e8ba8b72f9934b9b7",
            "value": " 111/111 [00:54&lt;00:00,  2.07it/s]"
          }
        },
        "f95f1a1d9b5e47d98c15c3e49025f3a2": {
          "model_module": "@jupyter-widgets/base",
          "model_name": "LayoutModel",
          "model_module_version": "1.2.0",
          "state": {
            "_model_module": "@jupyter-widgets/base",
            "_model_module_version": "1.2.0",
            "_model_name": "LayoutModel",
            "_view_count": null,
            "_view_module": "@jupyter-widgets/base",
            "_view_module_version": "1.2.0",
            "_view_name": "LayoutView",
            "align_content": null,
            "align_items": null,
            "align_self": null,
            "border": null,
            "bottom": null,
            "display": null,
            "flex": null,
            "flex_flow": null,
            "grid_area": null,
            "grid_auto_columns": null,
            "grid_auto_flow": null,
            "grid_auto_rows": null,
            "grid_column": null,
            "grid_gap": null,
            "grid_row": null,
            "grid_template_areas": null,
            "grid_template_columns": null,
            "grid_template_rows": null,
            "height": null,
            "justify_content": null,
            "justify_items": null,
            "left": null,
            "margin": null,
            "max_height": null,
            "max_width": null,
            "min_height": null,
            "min_width": null,
            "object_fit": null,
            "object_position": null,
            "order": null,
            "overflow": null,
            "overflow_x": null,
            "overflow_y": null,
            "padding": null,
            "right": null,
            "top": null,
            "visibility": null,
            "width": null
          }
        },
        "895ff3fb537e4c15aacc5805582b2acd": {
          "model_module": "@jupyter-widgets/base",
          "model_name": "LayoutModel",
          "model_module_version": "1.2.0",
          "state": {
            "_model_module": "@jupyter-widgets/base",
            "_model_module_version": "1.2.0",
            "_model_name": "LayoutModel",
            "_view_count": null,
            "_view_module": "@jupyter-widgets/base",
            "_view_module_version": "1.2.0",
            "_view_name": "LayoutView",
            "align_content": null,
            "align_items": null,
            "align_self": null,
            "border": null,
            "bottom": null,
            "display": null,
            "flex": null,
            "flex_flow": null,
            "grid_area": null,
            "grid_auto_columns": null,
            "grid_auto_flow": null,
            "grid_auto_rows": null,
            "grid_column": null,
            "grid_gap": null,
            "grid_row": null,
            "grid_template_areas": null,
            "grid_template_columns": null,
            "grid_template_rows": null,
            "height": null,
            "justify_content": null,
            "justify_items": null,
            "left": null,
            "margin": null,
            "max_height": null,
            "max_width": null,
            "min_height": null,
            "min_width": null,
            "object_fit": null,
            "object_position": null,
            "order": null,
            "overflow": null,
            "overflow_x": null,
            "overflow_y": null,
            "padding": null,
            "right": null,
            "top": null,
            "visibility": null,
            "width": null
          }
        },
        "94010d0facf74c029973e5d8abf4a560": {
          "model_module": "@jupyter-widgets/controls",
          "model_name": "DescriptionStyleModel",
          "model_module_version": "1.5.0",
          "state": {
            "_model_module": "@jupyter-widgets/controls",
            "_model_module_version": "1.5.0",
            "_model_name": "DescriptionStyleModel",
            "_view_count": null,
            "_view_module": "@jupyter-widgets/base",
            "_view_module_version": "1.2.0",
            "_view_name": "StyleView",
            "description_width": ""
          }
        },
        "f6430575fd6c464f8b087339cee69d0e": {
          "model_module": "@jupyter-widgets/base",
          "model_name": "LayoutModel",
          "model_module_version": "1.2.0",
          "state": {
            "_model_module": "@jupyter-widgets/base",
            "_model_module_version": "1.2.0",
            "_model_name": "LayoutModel",
            "_view_count": null,
            "_view_module": "@jupyter-widgets/base",
            "_view_module_version": "1.2.0",
            "_view_name": "LayoutView",
            "align_content": null,
            "align_items": null,
            "align_self": null,
            "border": null,
            "bottom": null,
            "display": null,
            "flex": null,
            "flex_flow": null,
            "grid_area": null,
            "grid_auto_columns": null,
            "grid_auto_flow": null,
            "grid_auto_rows": null,
            "grid_column": null,
            "grid_gap": null,
            "grid_row": null,
            "grid_template_areas": null,
            "grid_template_columns": null,
            "grid_template_rows": null,
            "height": null,
            "justify_content": null,
            "justify_items": null,
            "left": null,
            "margin": null,
            "max_height": null,
            "max_width": null,
            "min_height": null,
            "min_width": null,
            "object_fit": null,
            "object_position": null,
            "order": null,
            "overflow": null,
            "overflow_x": null,
            "overflow_y": null,
            "padding": null,
            "right": null,
            "top": null,
            "visibility": null,
            "width": null
          }
        },
        "ef8ba64788bc491fa0f89d89c28ac609": {
          "model_module": "@jupyter-widgets/controls",
          "model_name": "ProgressStyleModel",
          "model_module_version": "1.5.0",
          "state": {
            "_model_module": "@jupyter-widgets/controls",
            "_model_module_version": "1.5.0",
            "_model_name": "ProgressStyleModel",
            "_view_count": null,
            "_view_module": "@jupyter-widgets/base",
            "_view_module_version": "1.2.0",
            "_view_name": "StyleView",
            "bar_color": null,
            "description_width": ""
          }
        },
        "ffc82ab209ae43ea862d55dc40421b43": {
          "model_module": "@jupyter-widgets/base",
          "model_name": "LayoutModel",
          "model_module_version": "1.2.0",
          "state": {
            "_model_module": "@jupyter-widgets/base",
            "_model_module_version": "1.2.0",
            "_model_name": "LayoutModel",
            "_view_count": null,
            "_view_module": "@jupyter-widgets/base",
            "_view_module_version": "1.2.0",
            "_view_name": "LayoutView",
            "align_content": null,
            "align_items": null,
            "align_self": null,
            "border": null,
            "bottom": null,
            "display": null,
            "flex": null,
            "flex_flow": null,
            "grid_area": null,
            "grid_auto_columns": null,
            "grid_auto_flow": null,
            "grid_auto_rows": null,
            "grid_column": null,
            "grid_gap": null,
            "grid_row": null,
            "grid_template_areas": null,
            "grid_template_columns": null,
            "grid_template_rows": null,
            "height": null,
            "justify_content": null,
            "justify_items": null,
            "left": null,
            "margin": null,
            "max_height": null,
            "max_width": null,
            "min_height": null,
            "min_width": null,
            "object_fit": null,
            "object_position": null,
            "order": null,
            "overflow": null,
            "overflow_x": null,
            "overflow_y": null,
            "padding": null,
            "right": null,
            "top": null,
            "visibility": null,
            "width": null
          }
        },
        "15a9e257f2f1408e8ba8b72f9934b9b7": {
          "model_module": "@jupyter-widgets/controls",
          "model_name": "DescriptionStyleModel",
          "model_module_version": "1.5.0",
          "state": {
            "_model_module": "@jupyter-widgets/controls",
            "_model_module_version": "1.5.0",
            "_model_name": "DescriptionStyleModel",
            "_view_count": null,
            "_view_module": "@jupyter-widgets/base",
            "_view_module_version": "1.2.0",
            "_view_name": "StyleView",
            "description_width": ""
          }
        }
      }
    }
  },
  "cells": [
    {
      "cell_type": "markdown",
      "metadata": {
        "id": "view-in-github",
        "colab_type": "text"
      },
      "source": [
        "<a href=\"https://colab.research.google.com/github/joaqsluix/acmdigw/blob/main/EXTRACTING_AND_SAVING_DATA_ACMDIGW22624.ipynb\" target=\"_parent\"><img src=\"https://colab.research.google.com/assets/colab-badge.svg\" alt=\"Open In Colab\"/></a>"
      ]
    },
    {
      "cell_type": "code",
      "execution_count": 1,
      "metadata": {
        "colab": {
          "base_uri": "https://localhost:8080/"
        },
        "id": "40My9uvg605J",
        "outputId": "09040a54-3189-4a74-f7b6-aa5373e398ca"
      },
      "outputs": [
        {
          "output_type": "stream",
          "name": "stdout",
          "text": [
            "test\n"
          ]
        }
      ],
      "source": [
        "print(\"test\")"
      ]
    },
    {
      "cell_type": "code",
      "source": [
        "# this is a comment\n",
        "1+1"
      ],
      "metadata": {
        "colab": {
          "base_uri": "https://localhost:8080/"
        },
        "id": "ZD26ce0174RW",
        "outputId": "0b45b5f8-0205-4a27-c50c-473c1174ab25"
      },
      "execution_count": 2,
      "outputs": [
        {
          "output_type": "execute_result",
          "data": {
            "text/plain": [
              "2"
            ]
          },
          "metadata": {},
          "execution_count": 2
        }
      ]
    },
    {
      "cell_type": "code",
      "source": [
        "# most common shortcut\n",
        "# ctrl + / = comment a code\n",
        "# ctrl + enter = run a code block\n",
        "# ctrl + m, b = create a code block below\n",
        "# ctrl + m, a = create a code block above"
      ],
      "metadata": {
        "id": "Z29GFrnX9nxy"
      },
      "execution_count": 3,
      "outputs": []
    },
    {
      "cell_type": "code",
      "source": [
        "# connect gdrive\n",
        "from google.colab import drive\n",
        "drive.mount('/content/drive')"
      ],
      "metadata": {
        "colab": {
          "base_uri": "https://localhost:8080/"
        },
        "id": "fapDi3Th9-5D",
        "outputId": "ea5a7cea-a779-481c-8119-083c345d631f"
      },
      "execution_count": 4,
      "outputs": [
        {
          "output_type": "stream",
          "name": "stdout",
          "text": [
            "Drive already mounted at /content/drive; to attempt to forcibly remount, call drive.mount(\"/content/drive\", force_remount=True).\n"
          ]
        }
      ]
    },
    {
      "cell_type": "code",
      "source": [
        "# install yelpapi\n",
        "!pip install yelpapi"
      ],
      "metadata": {
        "colab": {
          "base_uri": "https://localhost:8080/"
        },
        "id": "PDshXVs5_CNO",
        "outputId": "4071a638-c2cf-4291-ec56-2dec1598ea9e"
      },
      "execution_count": 5,
      "outputs": [
        {
          "output_type": "stream",
          "name": "stdout",
          "text": [
            "Collecting yelpapi\n",
            "  Downloading yelpapi-2.5.1-py3-none-any.whl (7.4 kB)\n",
            "Requirement already satisfied: requests in /usr/local/lib/python3.10/dist-packages (from yelpapi) (2.31.0)\n",
            "Requirement already satisfied: charset-normalizer<4,>=2 in /usr/local/lib/python3.10/dist-packages (from requests->yelpapi) (3.3.2)\n",
            "Requirement already satisfied: idna<4,>=2.5 in /usr/local/lib/python3.10/dist-packages (from requests->yelpapi) (3.6)\n",
            "Requirement already satisfied: urllib3<3,>=1.21.1 in /usr/local/lib/python3.10/dist-packages (from requests->yelpapi) (2.0.7)\n",
            "Requirement already satisfied: certifi>=2017.4.17 in /usr/local/lib/python3.10/dist-packages (from requests->yelpapi) (2024.2.2)\n",
            "Installing collected packages: yelpapi\n",
            "Successfully installed yelpapi-2.5.1\n"
          ]
        }
      ]
    },
    {
      "cell_type": "code",
      "source": [
        "# import libraries\n",
        "import pandas as pd\n",
        "import numpy as np\n",
        "import matplotlib.pyplot as plt\n",
        "import seaborn as sns\n",
        "\n",
        "# additional libraries\n",
        "\n",
        "import os, json, math, time\n",
        "from yelpapi import YelpAPI\n",
        "from tqdm.notebook import tqdm_notebook"
      ],
      "metadata": {
        "id": "S3I3fiFDBxAx"
      },
      "execution_count": 6,
      "outputs": []
    },
    {
      "cell_type": "markdown",
      "source": [
        "LOADING CREDENTIALS"
      ],
      "metadata": {
        "id": "afZXoFw38lit"
      }
    },
    {
      "cell_type": "code",
      "source": [
        "# loading credentials and Creating the YelpAPI object\n",
        "# load yelp API credentials and instantiate the YelpAPI object\n",
        "with open('/content/drive/MyDrive/Colab Notebook/credentials/yelp_api.json') as file:\n",
        "  yelp_credentials = json.load(file)\n",
        "\n",
        "# create the yelp api engine\n",
        "yelp_api = YelpAPI(yelp_credentials['api-key'], timeout_s = 5.0)"
      ],
      "metadata": {
        "id": "ZvAWWXoHB7uV"
      },
      "execution_count": 7,
      "outputs": []
    },
    {
      "cell_type": "code",
      "source": [
        "# define API call parameters and output file path\n",
        "LOCATION = 'Greenville, SC'\n",
        "TERM = 'Sushi'\n",
        "JSON_FILE ='/DATA/results_SC_sushi.json'\n",
        "\n",
        "# display the destination file path\n",
        "print(f'Data will be saved to:{JSON_FILE}')"
      ],
      "metadata": {
        "colab": {
          "base_uri": "https://localhost:8080/"
        },
        "id": "PO1-QtKE-TOf",
        "outputId": "961a194d-47df-4c35-cbee-825b1f7ff320"
      },
      "execution_count": 8,
      "outputs": [
        {
          "output_type": "stream",
          "name": "stdout",
          "text": [
            "Data will be saved to:/DATA/results_SC_sushi.json\n"
          ]
        }
      ]
    },
    {
      "cell_type": "code",
      "source": [
        "# check if JSON_FILE exists and create if it doesn't\n",
        "if not os.path.isfile(JSON_FILE):\n",
        "\n",
        "  # create the directory\n",
        "  os.makedirs(os.path.dirname(JSON_FILE), exist_ok = True)\n",
        "\n",
        "  # confirm and save an empty list on the file\n",
        "  print(f'[i]{JSON_FILE} not found. Saving empty list on file')\n",
        "  with open(JSON_FILE,'w') as file:\n",
        "        json.dump([], file)\n",
        "\n",
        "else:\n",
        "    # inform the user if the file already exists\n",
        "    print(f'[i]{JSON_FILE} already exists.')"
      ],
      "metadata": {
        "colab": {
          "base_uri": "https://localhost:8080/"
        },
        "id": "wWAAHyH2Awyh",
        "outputId": "eb76200f-79fe-4d84-e256-0e9095649521"
      },
      "execution_count": 9,
      "outputs": [
        {
          "output_type": "stream",
          "name": "stdout",
          "text": [
            "[i]/DATA/results_SC_sushi.json not found. Saving empty list on file\n"
          ]
        }
      ]
    },
    {
      "cell_type": "code",
      "source": [
        "# load previous results and set offset based on the number of results\n",
        "with open(JSON_FILE, 'r') as file:\n",
        "  previous_results =json.load(file)\n",
        "\n",
        "n_results = len(previous_results)\n",
        "\n",
        "print(f'{n_results} previous results found.')"
      ],
      "metadata": {
        "colab": {
          "base_uri": "https://localhost:8080/"
        },
        "id": "IhghdCQADFE1",
        "outputId": "98863950-1e86-41cb-b69e-b283529f900f"
      },
      "execution_count": 10,
      "outputs": [
        {
          "output_type": "stream",
          "name": "stdout",
          "text": [
            "0 previous results found.\n"
          ]
        }
      ]
    },
    {
      "cell_type": "code",
      "source": [
        "# make first API call\n",
        "results = yelp_api.search_query(location = LOCATION,\n",
        "                                term = TERM,\n",
        "                                offset = n_results)\n",
        "results.keys()"
      ],
      "metadata": {
        "colab": {
          "base_uri": "https://localhost:8080/"
        },
        "id": "fBz2CeAfEwkU",
        "outputId": "54caee37-30c6-4fde-db5e-955c575f4958"
      },
      "execution_count": 11,
      "outputs": [
        {
          "output_type": "execute_result",
          "data": {
            "text/plain": [
              "dict_keys(['businesses', 'total', 'region'])"
            ]
          },
          "metadata": {},
          "execution_count": 11
        }
      ]
    },
    {
      "cell_type": "code",
      "source": [
        "# return how many results were found\n",
        "total_results = results['total']\n",
        "total_results"
      ],
      "metadata": {
        "colab": {
          "base_uri": "https://localhost:8080/"
        },
        "id": "5v0HCRGYF3Hl",
        "outputId": "b26e5965-8c42-4339-aa77-23516ae46a52"
      },
      "execution_count": 12,
      "outputs": [
        {
          "output_type": "execute_result",
          "data": {
            "text/plain": [
              "111"
            ]
          },
          "metadata": {},
          "execution_count": 12
        }
      ]
    },
    {
      "cell_type": "code",
      "source": [
        "business_results = results['businesses']\n",
        "\n",
        "# specify the file name where you want to save the data\n",
        "json_file_path = JSON_FILE\n",
        "\n",
        "# save the business data\n",
        "with open(json_file_path, 'w') as file:\n",
        "  json.dump(business_results, file, indent = 4)"
      ],
      "metadata": {
        "id": "sWYX2RzpGJdZ"
      },
      "execution_count": 14,
      "outputs": []
    },
    {
      "cell_type": "code",
      "source": [
        "# how many detals per page\n",
        "results_per_page = len(business_results)\n",
        "\n",
        "#  business data was replaced with business_results\n",
        "print(f'number of results retrieved per page', results_per_page)"
      ],
      "metadata": {
        "id": "tqvy5sEDGc2i",
        "colab": {
          "base_uri": "https://localhost:8080/"
        },
        "outputId": "e60f9be8-2740-4a74-c48d-fc07d0ba3433"
      },
      "execution_count": 15,
      "outputs": [
        {
          "output_type": "stream",
          "name": "stdout",
          "text": [
            "number of results retrieved per page 20\n"
          ]
        }
      ]
    },
    {
      "cell_type": "code",
      "source": [
        "# using the math.cell to round up the total number of pages\n",
        "n_pages = math.ceil(total_results/results_per_page)\n",
        "print(f'total number of pages: {n_pages}')"
      ],
      "metadata": {
        "colab": {
          "base_uri": "https://localhost:8080/"
        },
        "id": "I7IskF87AHOD",
        "outputId": "8a59363c-dee9-444b-cdf7-5a95f87f19f8"
      },
      "execution_count": 18,
      "outputs": [
        {
          "output_type": "stream",
          "name": "stdout",
          "text": [
            "total number of pages: 6\n"
          ]
        }
      ]
    },
    {
      "cell_type": "code",
      "source": [
        "# create a loop to extract the data\n",
        "for i in tqdm_notebook(range(1, total_results + 1)):\n",
        "  try:\n",
        "    time.sleep(0.2)# short delay to respect API limits\n",
        "    # so that when we call, pause, call pause, it doesn't think we're attacking it\n",
        "\n",
        "    # load existing results to append new data\n",
        "    with open(JSON_FILE,'r') as file:\n",
        "      previous_results = json.load(file)\n",
        "\n",
        "    # fetch new results\n",
        "    new_results = yelp_api.search_query(location = LOCATION,\n",
        "                                        term = TERM,\n",
        "                                        offset =len(previous_results))\n",
        "\n",
        "    # append and save the update results\n",
        "    updated_results = previous_results + new_results['businesses']\n",
        "    with open (JSON_FILE,'w') as file:\n",
        "      json.dump(updated_results, file)\n",
        "\n",
        "  except Exception as e:\n",
        "      if 'Too Many Requests for url' in str(e):\n",
        "        # if you see 'Too Many Requests for url', use:\n",
        "        print('Rate limit exceeded. Stopping data-collection')\n",
        "        break # continue to the next iteration in case of other errors\n"
      ],
      "metadata": {
        "colab": {
          "base_uri": "https://localhost:8080/",
          "height": 49,
          "referenced_widgets": [
            "2647482c37614c47ad01ff7e0811752d",
            "b5b360a226ee48098134d57c0c9c88c9",
            "c640d0d1869943cb802ed8ea15de1b78",
            "f0e32f80f9e24068a4eb116b069cd6d5",
            "f95f1a1d9b5e47d98c15c3e49025f3a2",
            "895ff3fb537e4c15aacc5805582b2acd",
            "94010d0facf74c029973e5d8abf4a560",
            "f6430575fd6c464f8b087339cee69d0e",
            "ef8ba64788bc491fa0f89d89c28ac609",
            "ffc82ab209ae43ea862d55dc40421b43",
            "15a9e257f2f1408e8ba8b72f9934b9b7"
          ]
        },
        "id": "FtQHyYq6AaMC",
        "outputId": "06e71c95-8a64-4cc8-9565-7a6d13e3c9e7"
      },
      "execution_count": 27,
      "outputs": [
        {
          "output_type": "display_data",
          "data": {
            "text/plain": [
              "  0%|          | 0/111 [00:00<?, ?it/s]"
            ],
            "application/vnd.jupyter.widget-view+json": {
              "version_major": 2,
              "version_minor": 0,
              "model_id": "2647482c37614c47ad01ff7e0811752d"
            }
          },
          "metadata": {}
        }
      ]
    },
    {
      "cell_type": "markdown",
      "source": [
        "**OPEN THE FINAL JSON FILE WITH PANDAS**"
      ],
      "metadata": {
        "id": "Nb-MrOJ-EYrK"
      }
    },
    {
      "cell_type": "code",
      "source": [
        "# load the final JSON file\n",
        "df = pd.read_json(JSON_FILE)\n",
        "\n",
        "# display the first 5 rows of the data\n",
        "df.head()"
      ],
      "metadata": {
        "colab": {
          "base_uri": "https://localhost:8080/",
          "height": 591
        },
        "id": "UriY-zIGBOU0",
        "outputId": "63a06817-3fb3-4f08-fb10-891d4778e915"
      },
      "execution_count": 28,
      "outputs": [
        {
          "output_type": "execute_result",
          "data": {
            "text/plain": [
              "                       id                                             alias  \\\n",
              "0  2jXS4oZkMhAONtd2j7L5Yg  chef-21-sushi-burger-and-korean-bbq-greenville-3   \n",
              "1  RGRk1ioORwm_FIX8PM732Q                             konnichiwa-greenville   \n",
              "2  zG_XOAFi9Y560WJ1RvghBw         sushi-masa-japanese-restaurant-greenville   \n",
              "3  7cJxOV-ANX1qLThK3yV96w                         otto-izakaya-greenville-4   \n",
              "4  Kx1x7Kf6C2gtogQErWSu0A                                   o-ku-greenville   \n",
              "\n",
              "                                name  \\\n",
              "0  Chef 21 Sushi Burger & Korean BBQ   \n",
              "1                         Konnichiwa   \n",
              "2     Sushi-Masa Japanese Restaurant   \n",
              "3                       Otto Izakaya   \n",
              "4                               O-Ku   \n",
              "\n",
              "                                           image_url  is_closed  \\\n",
              "0  https://s3-media4.fl.yelpcdn.com/bphoto/DbV4BU...      False   \n",
              "1  https://s3-media3.fl.yelpcdn.com/bphoto/p47H0_...      False   \n",
              "2  https://s3-media1.fl.yelpcdn.com/bphoto/zsRavZ...      False   \n",
              "3  https://s3-media1.fl.yelpcdn.com/bphoto/TdPhFy...      False   \n",
              "4  https://s3-media2.fl.yelpcdn.com/bphoto/7dR0xy...      False   \n",
              "\n",
              "                                                 url  review_count  \\\n",
              "0  https://www.yelp.com/biz/chef-21-sushi-burger-...            38   \n",
              "1  https://www.yelp.com/biz/konnichiwa-greenville...            71   \n",
              "2  https://www.yelp.com/biz/sushi-masa-japanese-r...           163   \n",
              "3  https://www.yelp.com/biz/otto-izakaya-greenvil...           449   \n",
              "4  https://www.yelp.com/biz/o-ku-greenville?adjus...            45   \n",
              "\n",
              "                                          categories  rating  \\\n",
              "0  [{'alias': 'korean', 'title': 'Korean'}, {'ali...     4.5   \n",
              "1  [{'alias': 'sushi', 'title': 'Sushi Bars'}, {'...     4.1   \n",
              "2        [{'alias': 'sushi', 'title': 'Sushi Bars'}]     4.4   \n",
              "3  [{'alias': 'japanese', 'title': 'Japanese'}, {...     4.2   \n",
              "4  [{'alias': 'sushi', 'title': 'Sushi Bars'}, {'...     4.0   \n",
              "\n",
              "                                         coordinates        transactions  \\\n",
              "0   {'latitude': 34.847671, 'longitude': -82.394229}  [delivery, pickup]   \n",
              "1  {'latitude': 34.845952342825115, 'longitude': ...                  []   \n",
              "2  {'latitude': 34.8512725830078, 'longitude': -8...          [delivery]   \n",
              "3  {'latitude': 34.8228218820722, 'longitude': -8...          [delivery]   \n",
              "4  {'latitude': 34.847954222223294, 'longitude': ...                  []   \n",
              "\n",
              "                                            location         phone  \\\n",
              "0  {'address1': '500 E McBee Ave', 'address2': 'S...  +18642633018   \n",
              "1  {'address1': '101 Falls Park Dr', 'address2': ...  +18642524436   \n",
              "2  {'address1': '8590 Pelham Rd', 'address2': 'St...  +18642882227   \n",
              "3  {'address1': '15 Market Point Dr', 'address2':...  +18645688009   \n",
              "4  {'address1': '30 W Broad St', 'address2': None...  +18643264812   \n",
              "\n",
              "    display_phone      distance price  \n",
              "0  (864) 263-3018   3341.861901   NaN  \n",
              "1  (864) 252-4436   4184.255183   NaN  \n",
              "2  (864) 288-2227  11481.830881    $$  \n",
              "3  (864) 568-8009   5933.485357    $$  \n",
              "4  (864) 326-4812   3931.009612   NaN  "
            ],
            "text/html": [
              "\n",
              "  <div id=\"df-d9afff83-f9c6-44ca-b21c-62ebe319117d\" class=\"colab-df-container\">\n",
              "    <div>\n",
              "<style scoped>\n",
              "    .dataframe tbody tr th:only-of-type {\n",
              "        vertical-align: middle;\n",
              "    }\n",
              "\n",
              "    .dataframe tbody tr th {\n",
              "        vertical-align: top;\n",
              "    }\n",
              "\n",
              "    .dataframe thead th {\n",
              "        text-align: right;\n",
              "    }\n",
              "</style>\n",
              "<table border=\"1\" class=\"dataframe\">\n",
              "  <thead>\n",
              "    <tr style=\"text-align: right;\">\n",
              "      <th></th>\n",
              "      <th>id</th>\n",
              "      <th>alias</th>\n",
              "      <th>name</th>\n",
              "      <th>image_url</th>\n",
              "      <th>is_closed</th>\n",
              "      <th>url</th>\n",
              "      <th>review_count</th>\n",
              "      <th>categories</th>\n",
              "      <th>rating</th>\n",
              "      <th>coordinates</th>\n",
              "      <th>transactions</th>\n",
              "      <th>location</th>\n",
              "      <th>phone</th>\n",
              "      <th>display_phone</th>\n",
              "      <th>distance</th>\n",
              "      <th>price</th>\n",
              "    </tr>\n",
              "  </thead>\n",
              "  <tbody>\n",
              "    <tr>\n",
              "      <th>0</th>\n",
              "      <td>2jXS4oZkMhAONtd2j7L5Yg</td>\n",
              "      <td>chef-21-sushi-burger-and-korean-bbq-greenville-3</td>\n",
              "      <td>Chef 21 Sushi Burger &amp; Korean BBQ</td>\n",
              "      <td>https://s3-media4.fl.yelpcdn.com/bphoto/DbV4BU...</td>\n",
              "      <td>False</td>\n",
              "      <td>https://www.yelp.com/biz/chef-21-sushi-burger-...</td>\n",
              "      <td>38</td>\n",
              "      <td>[{'alias': 'korean', 'title': 'Korean'}, {'ali...</td>\n",
              "      <td>4.5</td>\n",
              "      <td>{'latitude': 34.847671, 'longitude': -82.394229}</td>\n",
              "      <td>[delivery, pickup]</td>\n",
              "      <td>{'address1': '500 E McBee Ave', 'address2': 'S...</td>\n",
              "      <td>+18642633018</td>\n",
              "      <td>(864) 263-3018</td>\n",
              "      <td>3341.861901</td>\n",
              "      <td>NaN</td>\n",
              "    </tr>\n",
              "    <tr>\n",
              "      <th>1</th>\n",
              "      <td>RGRk1ioORwm_FIX8PM732Q</td>\n",
              "      <td>konnichiwa-greenville</td>\n",
              "      <td>Konnichiwa</td>\n",
              "      <td>https://s3-media3.fl.yelpcdn.com/bphoto/p47H0_...</td>\n",
              "      <td>False</td>\n",
              "      <td>https://www.yelp.com/biz/konnichiwa-greenville...</td>\n",
              "      <td>71</td>\n",
              "      <td>[{'alias': 'sushi', 'title': 'Sushi Bars'}, {'...</td>\n",
              "      <td>4.1</td>\n",
              "      <td>{'latitude': 34.845952342825115, 'longitude': ...</td>\n",
              "      <td>[]</td>\n",
              "      <td>{'address1': '101 Falls Park Dr', 'address2': ...</td>\n",
              "      <td>+18642524436</td>\n",
              "      <td>(864) 252-4436</td>\n",
              "      <td>4184.255183</td>\n",
              "      <td>NaN</td>\n",
              "    </tr>\n",
              "    <tr>\n",
              "      <th>2</th>\n",
              "      <td>zG_XOAFi9Y560WJ1RvghBw</td>\n",
              "      <td>sushi-masa-japanese-restaurant-greenville</td>\n",
              "      <td>Sushi-Masa Japanese Restaurant</td>\n",
              "      <td>https://s3-media1.fl.yelpcdn.com/bphoto/zsRavZ...</td>\n",
              "      <td>False</td>\n",
              "      <td>https://www.yelp.com/biz/sushi-masa-japanese-r...</td>\n",
              "      <td>163</td>\n",
              "      <td>[{'alias': 'sushi', 'title': 'Sushi Bars'}]</td>\n",
              "      <td>4.4</td>\n",
              "      <td>{'latitude': 34.8512725830078, 'longitude': -8...</td>\n",
              "      <td>[delivery]</td>\n",
              "      <td>{'address1': '8590 Pelham Rd', 'address2': 'St...</td>\n",
              "      <td>+18642882227</td>\n",
              "      <td>(864) 288-2227</td>\n",
              "      <td>11481.830881</td>\n",
              "      <td>$$</td>\n",
              "    </tr>\n",
              "    <tr>\n",
              "      <th>3</th>\n",
              "      <td>7cJxOV-ANX1qLThK3yV96w</td>\n",
              "      <td>otto-izakaya-greenville-4</td>\n",
              "      <td>Otto Izakaya</td>\n",
              "      <td>https://s3-media1.fl.yelpcdn.com/bphoto/TdPhFy...</td>\n",
              "      <td>False</td>\n",
              "      <td>https://www.yelp.com/biz/otto-izakaya-greenvil...</td>\n",
              "      <td>449</td>\n",
              "      <td>[{'alias': 'japanese', 'title': 'Japanese'}, {...</td>\n",
              "      <td>4.2</td>\n",
              "      <td>{'latitude': 34.8228218820722, 'longitude': -8...</td>\n",
              "      <td>[delivery]</td>\n",
              "      <td>{'address1': '15 Market Point Dr', 'address2':...</td>\n",
              "      <td>+18645688009</td>\n",
              "      <td>(864) 568-8009</td>\n",
              "      <td>5933.485357</td>\n",
              "      <td>$$</td>\n",
              "    </tr>\n",
              "    <tr>\n",
              "      <th>4</th>\n",
              "      <td>Kx1x7Kf6C2gtogQErWSu0A</td>\n",
              "      <td>o-ku-greenville</td>\n",
              "      <td>O-Ku</td>\n",
              "      <td>https://s3-media2.fl.yelpcdn.com/bphoto/7dR0xy...</td>\n",
              "      <td>False</td>\n",
              "      <td>https://www.yelp.com/biz/o-ku-greenville?adjus...</td>\n",
              "      <td>45</td>\n",
              "      <td>[{'alias': 'sushi', 'title': 'Sushi Bars'}, {'...</td>\n",
              "      <td>4.0</td>\n",
              "      <td>{'latitude': 34.847954222223294, 'longitude': ...</td>\n",
              "      <td>[]</td>\n",
              "      <td>{'address1': '30 W Broad St', 'address2': None...</td>\n",
              "      <td>+18643264812</td>\n",
              "      <td>(864) 326-4812</td>\n",
              "      <td>3931.009612</td>\n",
              "      <td>NaN</td>\n",
              "    </tr>\n",
              "  </tbody>\n",
              "</table>\n",
              "</div>\n",
              "    <div class=\"colab-df-buttons\">\n",
              "\n",
              "  <div class=\"colab-df-container\">\n",
              "    <button class=\"colab-df-convert\" onclick=\"convertToInteractive('df-d9afff83-f9c6-44ca-b21c-62ebe319117d')\"\n",
              "            title=\"Convert this dataframe to an interactive table.\"\n",
              "            style=\"display:none;\">\n",
              "\n",
              "  <svg xmlns=\"http://www.w3.org/2000/svg\" height=\"24px\" viewBox=\"0 -960 960 960\">\n",
              "    <path d=\"M120-120v-720h720v720H120Zm60-500h600v-160H180v160Zm220 220h160v-160H400v160Zm0 220h160v-160H400v160ZM180-400h160v-160H180v160Zm440 0h160v-160H620v160ZM180-180h160v-160H180v160Zm440 0h160v-160H620v160Z\"/>\n",
              "  </svg>\n",
              "    </button>\n",
              "\n",
              "  <style>\n",
              "    .colab-df-container {\n",
              "      display:flex;\n",
              "      gap: 12px;\n",
              "    }\n",
              "\n",
              "    .colab-df-convert {\n",
              "      background-color: #E8F0FE;\n",
              "      border: none;\n",
              "      border-radius: 50%;\n",
              "      cursor: pointer;\n",
              "      display: none;\n",
              "      fill: #1967D2;\n",
              "      height: 32px;\n",
              "      padding: 0 0 0 0;\n",
              "      width: 32px;\n",
              "    }\n",
              "\n",
              "    .colab-df-convert:hover {\n",
              "      background-color: #E2EBFA;\n",
              "      box-shadow: 0px 1px 2px rgba(60, 64, 67, 0.3), 0px 1px 3px 1px rgba(60, 64, 67, 0.15);\n",
              "      fill: #174EA6;\n",
              "    }\n",
              "\n",
              "    .colab-df-buttons div {\n",
              "      margin-bottom: 4px;\n",
              "    }\n",
              "\n",
              "    [theme=dark] .colab-df-convert {\n",
              "      background-color: #3B4455;\n",
              "      fill: #D2E3FC;\n",
              "    }\n",
              "\n",
              "    [theme=dark] .colab-df-convert:hover {\n",
              "      background-color: #434B5C;\n",
              "      box-shadow: 0px 1px 3px 1px rgba(0, 0, 0, 0.15);\n",
              "      filter: drop-shadow(0px 1px 2px rgba(0, 0, 0, 0.3));\n",
              "      fill: #FFFFFF;\n",
              "    }\n",
              "  </style>\n",
              "\n",
              "    <script>\n",
              "      const buttonEl =\n",
              "        document.querySelector('#df-d9afff83-f9c6-44ca-b21c-62ebe319117d button.colab-df-convert');\n",
              "      buttonEl.style.display =\n",
              "        google.colab.kernel.accessAllowed ? 'block' : 'none';\n",
              "\n",
              "      async function convertToInteractive(key) {\n",
              "        const element = document.querySelector('#df-d9afff83-f9c6-44ca-b21c-62ebe319117d');\n",
              "        const dataTable =\n",
              "          await google.colab.kernel.invokeFunction('convertToInteractive',\n",
              "                                                    [key], {});\n",
              "        if (!dataTable) return;\n",
              "\n",
              "        const docLinkHtml = 'Like what you see? Visit the ' +\n",
              "          '<a target=\"_blank\" href=https://colab.research.google.com/notebooks/data_table.ipynb>data table notebook</a>'\n",
              "          + ' to learn more about interactive tables.';\n",
              "        element.innerHTML = '';\n",
              "        dataTable['output_type'] = 'display_data';\n",
              "        await google.colab.output.renderOutput(dataTable, element);\n",
              "        const docLink = document.createElement('div');\n",
              "        docLink.innerHTML = docLinkHtml;\n",
              "        element.appendChild(docLink);\n",
              "      }\n",
              "    </script>\n",
              "  </div>\n",
              "\n",
              "\n",
              "<div id=\"df-0929e46d-9ea3-4f62-b32b-831e4672f4da\">\n",
              "  <button class=\"colab-df-quickchart\" onclick=\"quickchart('df-0929e46d-9ea3-4f62-b32b-831e4672f4da')\"\n",
              "            title=\"Suggest charts\"\n",
              "            style=\"display:none;\">\n",
              "\n",
              "<svg xmlns=\"http://www.w3.org/2000/svg\" height=\"24px\"viewBox=\"0 0 24 24\"\n",
              "     width=\"24px\">\n",
              "    <g>\n",
              "        <path d=\"M19 3H5c-1.1 0-2 .9-2 2v14c0 1.1.9 2 2 2h14c1.1 0 2-.9 2-2V5c0-1.1-.9-2-2-2zM9 17H7v-7h2v7zm4 0h-2V7h2v10zm4 0h-2v-4h2v4z\"/>\n",
              "    </g>\n",
              "</svg>\n",
              "  </button>\n",
              "\n",
              "<style>\n",
              "  .colab-df-quickchart {\n",
              "      --bg-color: #E8F0FE;\n",
              "      --fill-color: #1967D2;\n",
              "      --hover-bg-color: #E2EBFA;\n",
              "      --hover-fill-color: #174EA6;\n",
              "      --disabled-fill-color: #AAA;\n",
              "      --disabled-bg-color: #DDD;\n",
              "  }\n",
              "\n",
              "  [theme=dark] .colab-df-quickchart {\n",
              "      --bg-color: #3B4455;\n",
              "      --fill-color: #D2E3FC;\n",
              "      --hover-bg-color: #434B5C;\n",
              "      --hover-fill-color: #FFFFFF;\n",
              "      --disabled-bg-color: #3B4455;\n",
              "      --disabled-fill-color: #666;\n",
              "  }\n",
              "\n",
              "  .colab-df-quickchart {\n",
              "    background-color: var(--bg-color);\n",
              "    border: none;\n",
              "    border-radius: 50%;\n",
              "    cursor: pointer;\n",
              "    display: none;\n",
              "    fill: var(--fill-color);\n",
              "    height: 32px;\n",
              "    padding: 0;\n",
              "    width: 32px;\n",
              "  }\n",
              "\n",
              "  .colab-df-quickchart:hover {\n",
              "    background-color: var(--hover-bg-color);\n",
              "    box-shadow: 0 1px 2px rgba(60, 64, 67, 0.3), 0 1px 3px 1px rgba(60, 64, 67, 0.15);\n",
              "    fill: var(--button-hover-fill-color);\n",
              "  }\n",
              "\n",
              "  .colab-df-quickchart-complete:disabled,\n",
              "  .colab-df-quickchart-complete:disabled:hover {\n",
              "    background-color: var(--disabled-bg-color);\n",
              "    fill: var(--disabled-fill-color);\n",
              "    box-shadow: none;\n",
              "  }\n",
              "\n",
              "  .colab-df-spinner {\n",
              "    border: 2px solid var(--fill-color);\n",
              "    border-color: transparent;\n",
              "    border-bottom-color: var(--fill-color);\n",
              "    animation:\n",
              "      spin 1s steps(1) infinite;\n",
              "  }\n",
              "\n",
              "  @keyframes spin {\n",
              "    0% {\n",
              "      border-color: transparent;\n",
              "      border-bottom-color: var(--fill-color);\n",
              "      border-left-color: var(--fill-color);\n",
              "    }\n",
              "    20% {\n",
              "      border-color: transparent;\n",
              "      border-left-color: var(--fill-color);\n",
              "      border-top-color: var(--fill-color);\n",
              "    }\n",
              "    30% {\n",
              "      border-color: transparent;\n",
              "      border-left-color: var(--fill-color);\n",
              "      border-top-color: var(--fill-color);\n",
              "      border-right-color: var(--fill-color);\n",
              "    }\n",
              "    40% {\n",
              "      border-color: transparent;\n",
              "      border-right-color: var(--fill-color);\n",
              "      border-top-color: var(--fill-color);\n",
              "    }\n",
              "    60% {\n",
              "      border-color: transparent;\n",
              "      border-right-color: var(--fill-color);\n",
              "    }\n",
              "    80% {\n",
              "      border-color: transparent;\n",
              "      border-right-color: var(--fill-color);\n",
              "      border-bottom-color: var(--fill-color);\n",
              "    }\n",
              "    90% {\n",
              "      border-color: transparent;\n",
              "      border-bottom-color: var(--fill-color);\n",
              "    }\n",
              "  }\n",
              "</style>\n",
              "\n",
              "  <script>\n",
              "    async function quickchart(key) {\n",
              "      const quickchartButtonEl =\n",
              "        document.querySelector('#' + key + ' button');\n",
              "      quickchartButtonEl.disabled = true;  // To prevent multiple clicks.\n",
              "      quickchartButtonEl.classList.add('colab-df-spinner');\n",
              "      try {\n",
              "        const charts = await google.colab.kernel.invokeFunction(\n",
              "            'suggestCharts', [key], {});\n",
              "      } catch (error) {\n",
              "        console.error('Error during call to suggestCharts:', error);\n",
              "      }\n",
              "      quickchartButtonEl.classList.remove('colab-df-spinner');\n",
              "      quickchartButtonEl.classList.add('colab-df-quickchart-complete');\n",
              "    }\n",
              "    (() => {\n",
              "      let quickchartButtonEl =\n",
              "        document.querySelector('#df-0929e46d-9ea3-4f62-b32b-831e4672f4da button');\n",
              "      quickchartButtonEl.style.display =\n",
              "        google.colab.kernel.accessAllowed ? 'block' : 'none';\n",
              "    })();\n",
              "  </script>\n",
              "</div>\n",
              "    </div>\n",
              "  </div>\n"
            ],
            "application/vnd.google.colaboratory.intrinsic+json": {
              "type": "dataframe",
              "variable_name": "df",
              "summary": "{\n  \"name\": \"df\",\n  \"rows\": 111,\n  \"fields\": [\n    {\n      \"column\": \"id\",\n      \"properties\": {\n        \"dtype\": \"string\",\n        \"num_unique_values\": 111,\n        \"samples\": [\n          \"S9mzsx6xefiBH8m5fwQ80Q\",\n          \"pXc5URdv80m0DuuHqHrP9A\",\n          \"Kx1x7Kf6C2gtogQErWSu0A\"\n        ],\n        \"semantic_type\": \"\",\n        \"description\": \"\"\n      }\n    },\n    {\n      \"column\": \"alias\",\n      \"properties\": {\n        \"dtype\": \"string\",\n        \"num_unique_values\": 111,\n        \"samples\": [\n          \"publix-simpsonville-2\",\n          \"the-bluefin-sushi-burger-bar-greenville\",\n          \"o-ku-greenville\"\n        ],\n        \"semantic_type\": \"\",\n        \"description\": \"\"\n      }\n    },\n    {\n      \"column\": \"name\",\n      \"properties\": {\n        \"dtype\": \"string\",\n        \"num_unique_values\": 99,\n        \"samples\": [\n          \"Tuk Tuk Thai and Vietnamese Kitchen\",\n          \"Miyoko Japanese Steakhouse\",\n          \"The Cheesecake Factory\"\n        ],\n        \"semantic_type\": \"\",\n        \"description\": \"\"\n      }\n    },\n    {\n      \"column\": \"image_url\",\n      \"properties\": {\n        \"dtype\": \"string\",\n        \"num_unique_values\": 111,\n        \"samples\": [\n          \"https://s3-media2.fl.yelpcdn.com/bphoto/oG5I8z_6SUHfcLhaVI__NA/o.jpg\",\n          \"https://s3-media1.fl.yelpcdn.com/bphoto/oYl9_S3jiBR0xgZBlbddmA/o.jpg\",\n          \"https://s3-media2.fl.yelpcdn.com/bphoto/7dR0xyqxBxJP_PeVCsusWA/o.jpg\"\n        ],\n        \"semantic_type\": \"\",\n        \"description\": \"\"\n      }\n    },\n    {\n      \"column\": \"is_closed\",\n      \"properties\": {\n        \"dtype\": \"boolean\",\n        \"num_unique_values\": 1,\n        \"samples\": [\n          false\n        ],\n        \"semantic_type\": \"\",\n        \"description\": \"\"\n      }\n    },\n    {\n      \"column\": \"url\",\n      \"properties\": {\n        \"dtype\": \"string\",\n        \"num_unique_values\": 111,\n        \"samples\": [\n          \"https://www.yelp.com/biz/publix-simpsonville-2?adjust_creative=F_4xULjKkrT8D844Lqwx6g&utm_campaign=yelp_api_v3&utm_medium=api_v3_business_search&utm_source=F_4xULjKkrT8D844Lqwx6g\"\n        ],\n        \"semantic_type\": \"\",\n        \"description\": \"\"\n      }\n    },\n    {\n      \"column\": \"review_count\",\n      \"properties\": {\n        \"dtype\": \"number\",\n        \"std\": 130,\n        \"min\": 2,\n        \"max\": 1021,\n        \"num_unique_values\": 84,\n        \"samples\": [\n          183\n        ],\n        \"semantic_type\": \"\",\n        \"description\": \"\"\n      }\n    },\n    {\n      \"column\": \"categories\",\n      \"properties\": {\n        \"dtype\": \"object\",\n        \"semantic_type\": \"\",\n        \"description\": \"\"\n      }\n    },\n    {\n      \"column\": \"rating\",\n      \"properties\": {\n        \"dtype\": \"number\",\n        \"std\": 0.6188653060192234,\n        \"min\": 1.6,\n        \"max\": 5.0,\n        \"num_unique_values\": 25,\n        \"samples\": [\n          3.6\n        ],\n        \"semantic_type\": \"\",\n        \"description\": \"\"\n      }\n    },\n    {\n      \"column\": \"coordinates\",\n      \"properties\": {\n        \"dtype\": \"object\",\n        \"semantic_type\": \"\",\n        \"description\": \"\"\n      }\n    },\n    {\n      \"column\": \"transactions\",\n      \"properties\": {\n        \"dtype\": \"object\",\n        \"semantic_type\": \"\",\n        \"description\": \"\"\n      }\n    },\n    {\n      \"column\": \"location\",\n      \"properties\": {\n        \"dtype\": \"object\",\n        \"semantic_type\": \"\",\n        \"description\": \"\"\n      }\n    },\n    {\n      \"column\": \"phone\",\n      \"properties\": {\n        \"dtype\": \"string\",\n        \"num_unique_values\": 105,\n        \"samples\": [\n          \"+18646102639\"\n        ],\n        \"semantic_type\": \"\",\n        \"description\": \"\"\n      }\n    },\n    {\n      \"column\": \"display_phone\",\n      \"properties\": {\n        \"dtype\": \"string\",\n        \"num_unique_values\": 105,\n        \"samples\": [\n          \"(864) 610-2639\"\n        ],\n        \"semantic_type\": \"\",\n        \"description\": \"\"\n      }\n    },\n    {\n      \"column\": \"distance\",\n      \"properties\": {\n        \"dtype\": \"number\",\n        \"std\": 4883.733204165183,\n        \"min\": 653.0490265231333,\n        \"max\": 18437.432245844797,\n        \"num_unique_values\": 109,\n        \"samples\": [\n          8333.849906427533\n        ],\n        \"semantic_type\": \"\",\n        \"description\": \"\"\n      }\n    },\n    {\n      \"column\": \"price\",\n      \"properties\": {\n        \"dtype\": \"category\",\n        \"num_unique_values\": 3,\n        \"samples\": [\n          \"$$\"\n        ],\n        \"semantic_type\": \"\",\n        \"description\": \"\"\n      }\n    }\n  ]\n}"
            }
          },
          "metadata": {},
          "execution_count": 28
        }
      ]
    },
    {
      "cell_type": "markdown",
      "source": [
        "# **SAVE THE FILE IN THE DIRECTORY**"
      ],
      "metadata": {
        "id": "dnfU2ya6EwrJ"
      }
    },
    {
      "cell_type": "code",
      "source": [
        "# SPECIFY THE DIRECTORY\n",
        "directory = '/content/drive/MyDrive/Colab Notebook/DATA'\n",
        "filename = 'final_results_SC_sushi.csv.gz' # make sure to include the .csv.gz extension\n",
        "path = os.path.join(directory, filename)\n",
        "\n",
        "# ensure that the 'Data' directory exists\n",
        "os.makedirs(directory, exist_ok=True)\n",
        "\n",
        "# save the dataframe as a compressed csv file (to save space)\n",
        "df.to_csv(path, compression='gzip', index=False)\n",
        "\n",
        "# df was defined in the previous code block: df = pd.read_json(JSON_FILE)\n",
        "\n",
        "# SAVE AS JSON FILE\n",
        "json_file = '/content/drive/MyDrive/Colab Notebook/DATA/final_results_SC_sushi.json'\n",
        "# add data folders copied path before /final_results_SC_sushi.json\n",
        "\n",
        "# save the json as dataframe\n",
        "df.to_json(json_file,orient='records', lines=True)\n",
        "\n",
        "# save the file as gzip\n",
        "csv_gz_file = json_file.replace('.json','.csv.gz')\n",
        "\n",
        "# save the dataframe as a compressed csv without the index\n",
        "df.to_csv(csv_gz_file, compression='gzip',index=False)"
      ],
      "metadata": {
        "id": "rc0dIkbqEp_P"
      },
      "execution_count": 29,
      "outputs": []
    },
    {
      "cell_type": "code",
      "source": [],
      "metadata": {
        "id": "WIO9OeR0IKjS"
      },
      "execution_count": null,
      "outputs": []
    }
  ]
}