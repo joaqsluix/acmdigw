{
  "nbformat": 4,
  "nbformat_minor": 0,
  "metadata": {
    "colab": {
      "provenance": [],
      "gpuType": "T4",
      "mount_file_id": "1SRQeLPekZqZNHikfN1Rkz2Zued0ziJye",
      "authorship_tag": "ABX9TyNT9VwohTLW2Hy6DGNGkCrn",
      "include_colab_link": true
    },
    "kernelspec": {
      "name": "python3",
      "display_name": "Python 3"
    },
    "language_info": {
      "name": "python"
    },
    "accelerator": "GPU"
  },
  "cells": [
    {
      "cell_type": "markdown",
      "metadata": {
        "id": "view-in-github",
        "colab_type": "text"
      },
      "source": [
        "<a href=\"https://colab.research.google.com/github/joaqsluix/acmdigw/blob/main/EXTRACTING_AND_SAVING_DATA_ACMDIGW22624.ipynb\" target=\"_parent\"><img src=\"https://colab.research.google.com/assets/colab-badge.svg\" alt=\"Open In Colab\"/></a>"
      ]
    },
    {
      "cell_type": "code",
      "execution_count": 1,
      "metadata": {
        "colab": {
          "base_uri": "https://localhost:8080/"
        },
        "id": "40My9uvg605J",
        "outputId": "2cd8505b-b902-4461-f0a5-59e2bfb16011"
      },
      "outputs": [
        {
          "output_type": "stream",
          "name": "stdout",
          "text": [
            "test\n"
          ]
        }
      ],
      "source": [
        "print(\"test\")"
      ]
    },
    {
      "cell_type": "code",
      "source": [
        "# this is a comment\n",
        "1+1"
      ],
      "metadata": {
        "colab": {
          "base_uri": "https://localhost:8080/"
        },
        "id": "ZD26ce0174RW",
        "outputId": "aa558dce-2ae4-4cce-e142-5896e4689950"
      },
      "execution_count": 2,
      "outputs": [
        {
          "output_type": "execute_result",
          "data": {
            "text/plain": [
              "2"
            ]
          },
          "metadata": {},
          "execution_count": 2
        }
      ]
    },
    {
      "cell_type": "code",
      "source": [
        "# most common shortcut\n",
        "# ctrl + / = comment a code\n",
        "# ctrl + enter = run a code block\n",
        "# ctrl + m, b = create a code block below\n",
        "# ctrl + m, a = create a code block above"
      ],
      "metadata": {
        "id": "Z29GFrnX9nxy"
      },
      "execution_count": 3,
      "outputs": []
    },
    {
      "cell_type": "code",
      "source": [
        "# connect gdrive\n",
        "from google.colab import drive\n",
        "drive.mount('/content/drive')"
      ],
      "metadata": {
        "colab": {
          "base_uri": "https://localhost:8080/"
        },
        "id": "fapDi3Th9-5D",
        "outputId": "1cd09839-60d7-449c-d091-51c06270e0ad"
      },
      "execution_count": 4,
      "outputs": [
        {
          "output_type": "stream",
          "name": "stdout",
          "text": [
            "Drive already mounted at /content/drive; to attempt to forcibly remount, call drive.mount(\"/content/drive\", force_remount=True).\n"
          ]
        }
      ]
    },
    {
      "cell_type": "code",
      "source": [
        "# install yelpapi\n",
        "!pip install yelpapi"
      ],
      "metadata": {
        "colab": {
          "base_uri": "https://localhost:8080/"
        },
        "id": "PDshXVs5_CNO",
        "outputId": "dd113fc9-8b19-4050-fed6-0accb5858928"
      },
      "execution_count": 5,
      "outputs": [
        {
          "output_type": "stream",
          "name": "stdout",
          "text": [
            "Collecting yelpapi\n",
            "  Downloading yelpapi-2.5.1-py3-none-any.whl (7.4 kB)\n",
            "Requirement already satisfied: requests in /usr/local/lib/python3.10/dist-packages (from yelpapi) (2.31.0)\n",
            "Requirement already satisfied: charset-normalizer<4,>=2 in /usr/local/lib/python3.10/dist-packages (from requests->yelpapi) (3.3.2)\n",
            "Requirement already satisfied: idna<4,>=2.5 in /usr/local/lib/python3.10/dist-packages (from requests->yelpapi) (3.6)\n",
            "Requirement already satisfied: urllib3<3,>=1.21.1 in /usr/local/lib/python3.10/dist-packages (from requests->yelpapi) (2.0.7)\n",
            "Requirement already satisfied: certifi>=2017.4.17 in /usr/local/lib/python3.10/dist-packages (from requests->yelpapi) (2024.2.2)\n",
            "Installing collected packages: yelpapi\n",
            "Successfully installed yelpapi-2.5.1\n"
          ]
        }
      ]
    },
    {
      "cell_type": "code",
      "source": [
        "# import libraries\n",
        "import pandas as pd\n",
        "import numpy as np\n",
        "import matplotlib.pyplot as plt\n",
        "import seaborn as sns\n",
        "\n",
        "# additional libraries\n",
        "\n",
        "import os, json, math, time\n",
        "from yelpapi import YelpAPI\n",
        "from tqdm.notebook import tqdm_notebook"
      ],
      "metadata": {
        "id": "S3I3fiFDBxAx"
      },
      "execution_count": 6,
      "outputs": []
    },
    {
      "cell_type": "markdown",
      "source": [
        "LOADING CREDENTIALS"
      ],
      "metadata": {
        "id": "afZXoFw38lit"
      }
    },
    {
      "cell_type": "code",
      "source": [
        "# loading credentials and Creating the YelpAPI object\n",
        "# load yelp API credentials and instantiate the YelpAPI object\n",
        "with open('/content/drive/MyDrive/Colab Notebook/credentials/yelp_api.json') as file:\n",
        "  yelp_credentials = json.load(file)\n",
        "\n",
        "# create the yelp api engine\n",
        "yelp_api = YelpAPI(yelp_credentials['api-key'], timeout_s = 5.0)"
      ],
      "metadata": {
        "id": "ZvAWWXoHB7uV"
      },
      "execution_count": 8,
      "outputs": []
    },
    {
      "cell_type": "code",
      "source": [
        "# define API call parameters and output file path\n",
        "LOCATION = 'Greenville, SC'\n",
        "TERM = 'Sushi'\n",
        "JSON_FILE ='/DATA/results_SC_sushi.json'\n",
        "\n",
        "# display the destination file path\n",
        "print(f'Data will be saved to:{JSON_FILE}')"
      ],
      "metadata": {
        "colab": {
          "base_uri": "https://localhost:8080/"
        },
        "id": "PO1-QtKE-TOf",
        "outputId": "27b80d3a-abfd-4355-84ae-0ba552df4ff6"
      },
      "execution_count": 12,
      "outputs": [
        {
          "output_type": "stream",
          "name": "stdout",
          "text": [
            "Data will be saved to:/DATA/results_SC_sushi.json\n"
          ]
        }
      ]
    },
    {
      "cell_type": "code",
      "source": [
        "# check if JSON_FILE exists and create if it doesn't\n",
        "if not os.path.isfile(JSON_FILE):\n",
        "\n",
        "  # create the directory\n",
        "  os.makedirs(os.path.dirname(JSON_FILE), exist_ok = True)\n",
        "\n",
        "  # confirm and save an empty list on the file\n",
        "  print(f'[i]{JSON_FILE} not found. Saving empty list on file')\n",
        "  with open(JSON_FILE,'w') as file:\n",
        "        json.dump([], file)\n",
        "\n",
        "else:\n",
        "    # inform the user if the file already exists\n",
        "    print(f'[i]{JSON_FILE} already exists.')"
      ],
      "metadata": {
        "colab": {
          "base_uri": "https://localhost:8080/"
        },
        "id": "wWAAHyH2Awyh",
        "outputId": "1ffb75f3-3d92-4dd0-d840-456a6ec5be76"
      },
      "execution_count": 16,
      "outputs": [
        {
          "output_type": "stream",
          "name": "stdout",
          "text": [
            "[i]/DATA/results_SC_sushi.json not found. Saving empty list on file\n"
          ]
        }
      ]
    },
    {
      "cell_type": "code",
      "source": [
        "# load previous results and set offset based on the number of results\n",
        "with open(JSON_FILE, 'r') as file:\n",
        "  previous_results =json.load(file)\n",
        "\n",
        "n_results = len(previous_results)\n",
        "\n",
        "print(f'{n_results} previous results found.')"
      ],
      "metadata": {
        "colab": {
          "base_uri": "https://localhost:8080/"
        },
        "id": "IhghdCQADFE1",
        "outputId": "10e0f279-c1e9-408e-a033-bc67a510f7c0"
      },
      "execution_count": 17,
      "outputs": [
        {
          "output_type": "stream",
          "name": "stdout",
          "text": [
            "0 previous results found.\n"
          ]
        }
      ]
    },
    {
      "cell_type": "code",
      "source": [
        "# make first API call\n",
        "results = yelp_api.search_query(location = LOCATION,\n",
        "                                term = TERM,\n",
        "                                offset = n_results)\n",
        "results.keys()"
      ],
      "metadata": {
        "colab": {
          "base_uri": "https://localhost:8080/"
        },
        "id": "fBz2CeAfEwkU",
        "outputId": "c86f0afc-eb0b-44f3-9566-466d493fd930"
      },
      "execution_count": 19,
      "outputs": [
        {
          "output_type": "execute_result",
          "data": {
            "text/plain": [
              "dict_keys(['businesses', 'total', 'region'])"
            ]
          },
          "metadata": {},
          "execution_count": 19
        }
      ]
    },
    {
      "cell_type": "code",
      "source": [
        "# return how many results were found\n",
        "total_results = results['total']\n",
        "total_results"
      ],
      "metadata": {
        "colab": {
          "base_uri": "https://localhost:8080/"
        },
        "id": "5v0HCRGYF3Hl",
        "outputId": "6340014f-c3b3-4c8e-fe3e-91829d38a2ca"
      },
      "execution_count": 20,
      "outputs": [
        {
          "output_type": "execute_result",
          "data": {
            "text/plain": [
              "111"
            ]
          },
          "metadata": {},
          "execution_count": 20
        }
      ]
    },
    {
      "cell_type": "code",
      "source": [
        "business_data = results['businesses']\n",
        "\n",
        "# specify the file name where you want to save the data\n",
        "json_file_path = JSON_FILE\n",
        "\n",
        "# save the business data\n",
        "with open(json_file_path, 'w') as file:\n",
        "  json.dump(business_data, file, indent = 4)"
      ],
      "metadata": {
        "id": "sWYX2RzpGJdZ"
      },
      "execution_count": 21,
      "outputs": []
    },
    {
      "cell_type": "code",
      "source": [],
      "metadata": {
        "id": "tqvy5sEDGc2i"
      },
      "execution_count": null,
      "outputs": []
    }
  ]
}